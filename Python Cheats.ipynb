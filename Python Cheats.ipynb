{
 "cells": [
  {
   "cell_type": "code",
   "execution_count": 2,
   "metadata": {},
   "outputs": [],
   "source": [
    "# Importing libraries\n",
    "import pandas as pd\n",
    "import os"
   ]
  },
  {
   "cell_type": "markdown",
   "metadata": {},
   "source": [
    "#### Remove duplicates and keep an ordered list"
   ]
  },
  {
   "cell_type": "code",
   "execution_count": 7,
   "metadata": {},
   "outputs": [
    {
     "name": "stdout",
     "output_type": "stream",
     "text": [
      "{'a': None, 'b': None, 'c': None}\n",
      "['a', 'b', 'c']\n"
     ]
    }
   ],
   "source": [
    "list_with_duplicates = ['a','b','a','c','b','a']\n",
    "# We can use set, to remove duplicates but this dont keep the list ordered\n",
    "with_set = list(set(list_with_duplicates))\n",
    "# Instead we can create a dictionary and use our list as the keys, and since these have to be unique duplicates are removed and order is maintained\n",
    "with_dict = dict.fromkeys(list_with_duplicates)\n",
    "print(with_dict)\n",
    "# Since the list constructor also take dictionaries we can use .list() and our list without duplicates is ready \n",
    "with_dict = list(dict.fromkeys(list_with_duplicates))\n",
    "print(with_dict)"
   ]
  },
  {
   "cell_type": "markdown",
   "metadata": {},
   "source": [
    "### Look for values in a list based on a value in another column | similar to VLOOKUP "
   ]
  },
  {
   "cell_type": "code",
   "execution_count": 8,
   "metadata": {},
   "outputs": [
    {
     "name": "stdout",
     "output_type": "stream",
     "text": [
      "    Name Grade\n",
      "0  Alice     A\n",
      "1    Bob     B\n",
      "2   John     C\n",
      "3    Eve     B\n",
      "--------------------\n",
      "C\n",
      "--------------------\n",
      "Bob C\n",
      "John C\n",
      "--------------------\n"
     ]
    }
   ],
   "source": [
    "sample_data = {'Name': ['Alice', 'Bob', 'John', 'Eve'], \n",
    "               'Grade': ['A', 'B', 'C', 'B']}\n",
    "\n",
    "sample_df = pd.DataFrame(sample_data)\n",
    "print(sample_df)\n",
    "print(\"-\"*20)\n",
    "\n",
    "# we use .loc[] to look fo the specific value and then the .iloc[0] to select that value from the dataframe\n",
    "variable_name = sample_df.loc[sample_df['Name'] == 'John', 'Grade'].iloc[0]\n",
    "print(variable_name)\n",
    "print(\"-\"*20)\n",
    "\n",
    "# but also make a loop  make a loop if lets say in this case we have a list of <names> and iterating thru names\n",
    "names = ['Bob', 'John']\n",
    "for name in names:\n",
    "    variable_name = sample_df.loc[sample_df['Name'] == 'John', 'Grade'].iloc[0]\n",
    "    print(f'{name} {variable_name}')\n",
    "print(\"-\"*20)"
   ]
  },
  {
   "cell_type": "markdown",
   "metadata": {},
   "source": [
    "### Look the most frequent value in a list"
   ]
  },
  {
   "cell_type": "code",
   "execution_count": 9,
   "metadata": {},
   "outputs": [
    {
     "name": "stdout",
     "output_type": "stream",
     "text": [
      "1\n",
      "juan\n"
     ]
    }
   ],
   "source": [
    "list_int = [1, 2, 1, 3, 4, 1, 2, 4, 1]\n",
    "list_str = ['juan','maria','juan','roberto','maria','juan','jose','max','maria','max','juan']\n",
    "\n",
    "# Using the max() in a list in combination with a key where the max can be calculated\n",
    "frequent_int = max(list_int, key= list_int.count)\n",
    "frequent_str = max(set(list_str), key= list_str.count) #we can make a set out of the list to optimize it \n",
    "print(frequent_int)\n",
    "print(frequent_str)"
   ]
  },
  {
   "cell_type": "markdown",
   "metadata": {},
   "source": [
    "### Add multiple characters to a f-string, left, right, around. works fine to add leading zeros"
   ]
  },
  {
   "cell_type": "code",
   "execution_count": 3,
   "metadata": {},
   "outputs": [
    {
     "name": "stdout",
     "output_type": "stream",
     "text": [
      "This is a test string=============================\n",
      "=============================This is a test string\n",
      "==============This is a test string===============\n"
     ]
    }
   ],
   "source": [
    "test = 'This is a test string'\n",
    "print(f'{test:=<50}') # add to the right\n",
    "print(f'{test:=>50}') # add to the left\n",
    "print(f'{test:=^50}') # add all around"
   ]
  },
  {
   "cell_type": "markdown",
   "metadata": {},
   "source": [
    "### Get a random value from a list everytime you run"
   ]
  },
  {
   "cell_type": "code",
   "execution_count": 6,
   "metadata": {},
   "outputs": [
    {
     "name": "stdout",
     "output_type": "stream",
     "text": [
      "c\n"
     ]
    }
   ],
   "source": [
    "from random import choice\n",
    "\n",
    "items = ['a', 'b', 'c', 'd', 'e', 'f']\n",
    "print(choice(items))"
   ]
  },
  {
   "cell_type": "markdown",
   "metadata": {},
   "source": [
    "### Unpack a column that contains a list into multiple rows and dinamically populate the "
   ]
  },
  {
   "cell_type": "code",
   "execution_count": 12,
   "metadata": {},
   "outputs": [
    {
     "data": {
      "text/html": [
       "<div>\n",
       "<style scoped>\n",
       "    .dataframe tbody tr th:only-of-type {\n",
       "        vertical-align: middle;\n",
       "    }\n",
       "\n",
       "    .dataframe tbody tr th {\n",
       "        vertical-align: top;\n",
       "    }\n",
       "\n",
       "    .dataframe thead th {\n",
       "        text-align: right;\n",
       "    }\n",
       "</style>\n",
       "<table border=\"1\" class=\"dataframe\">\n",
       "  <thead>\n",
       "    <tr style=\"text-align: right;\">\n",
       "      <th></th>\n",
       "      <th>Alumni</th>\n",
       "      <th>Teachers</th>\n",
       "    </tr>\n",
       "  </thead>\n",
       "  <tbody>\n",
       "    <tr>\n",
       "      <th>0</th>\n",
       "      <td>Alice</td>\n",
       "      <td>Juan, Marian, roberto, carlos</td>\n",
       "    </tr>\n",
       "    <tr>\n",
       "      <th>1</th>\n",
       "      <td>Bob</td>\n",
       "      <td>Raul, Leida, Ramon, Karim</td>\n",
       "    </tr>\n",
       "    <tr>\n",
       "      <th>2</th>\n",
       "      <td>John</td>\n",
       "      <td>Simone, Monika, roberto, carlos</td>\n",
       "    </tr>\n",
       "    <tr>\n",
       "      <th>3</th>\n",
       "      <td>Eve</td>\n",
       "      <td>Juan, Marian, roberto, carlos</td>\n",
       "    </tr>\n",
       "  </tbody>\n",
       "</table>\n",
       "</div>"
      ],
      "text/plain": [
       "  Alumni                         Teachers\n",
       "0  Alice    Juan, Marian, roberto, carlos\n",
       "1    Bob        Raul, Leida, Ramon, Karim\n",
       "2   John  Simone, Monika, roberto, carlos\n",
       "3    Eve    Juan, Marian, roberto, carlos"
      ]
     },
     "execution_count": 12,
     "metadata": {},
     "output_type": "execute_result"
    }
   ],
   "source": [
    "sample_data = pd.DataFrame({'Alumni': ['Alice', 'Bob', 'John', 'Eve'], \n",
    "               'Teachers': [['Juan, Marian, roberto, carlos'], ['Raul, Leida, Ramon, Karim'], ['Simone, Monika, roberto, carlos'], ['Juan, Marian, roberto, carlos']]})\n",
    "\n",
    "sample_unpack = sample_data.explode('Teachers', ignore_index = True ) # Using .explode to 'unpack' all the values in the message_track_uris list\n",
    "sample_unpack.head()"
   ]
  },
  {
   "cell_type": "markdown",
   "metadata": {},
   "source": [
    "### Use a wildcard to retrieve all files in a directory"
   ]
  },
  {
   "cell_type": "code",
   "execution_count": 20,
   "metadata": {},
   "outputs": [
    {
     "data": {
      "text/plain": [
       "['C:\\\\Users\\\\jaimech\\\\Desktop\\\\DBeaver.lnk',\n",
       " 'C:\\\\Users\\\\jaimech\\\\Desktop\\\\desktop.ini',\n",
       " 'C:\\\\Users\\\\jaimech\\\\Desktop\\\\Docker Desktop.lnk']"
      ]
     },
     "execution_count": 20,
     "metadata": {},
     "output_type": "execute_result"
    }
   ],
   "source": [
    "import glob \n",
    "\n",
    "data_path = os.path.expanduser(f\"~\\\\Desktop\")\n",
    "\n",
    "wildcard_list = glob.glob(f'{data_path}\\\\d*') \n",
    "\n",
    "print(wildcard_list)"
   ]
  },
  {
   "cell_type": "markdown",
   "metadata": {},
   "source": [
    "### Delete multiple columns from a dataframe"
   ]
  },
  {
   "cell_type": "code",
   "execution_count": 2,
   "metadata": {},
   "outputs": [
    {
     "data": {
      "text/html": [
       "<div>\n",
       "<style scoped>\n",
       "    .dataframe tbody tr th:only-of-type {\n",
       "        vertical-align: middle;\n",
       "    }\n",
       "\n",
       "    .dataframe tbody tr th {\n",
       "        vertical-align: top;\n",
       "    }\n",
       "\n",
       "    .dataframe thead th {\n",
       "        text-align: right;\n",
       "    }\n",
       "</style>\n",
       "<table border=\"1\" class=\"dataframe\">\n",
       "  <thead>\n",
       "    <tr style=\"text-align: right;\">\n",
       "      <th></th>\n",
       "      <th>A</th>\n",
       "      <th>C</th>\n",
       "    </tr>\n",
       "  </thead>\n",
       "  <tbody>\n",
       "    <tr>\n",
       "      <th>0</th>\n",
       "      <td>1</td>\n",
       "      <td>True</td>\n",
       "    </tr>\n",
       "    <tr>\n",
       "      <th>1</th>\n",
       "      <td>2</td>\n",
       "      <td>False</td>\n",
       "    </tr>\n",
       "    <tr>\n",
       "      <th>2</th>\n",
       "      <td>3</td>\n",
       "      <td>True</td>\n",
       "    </tr>\n",
       "    <tr>\n",
       "      <th>3</th>\n",
       "      <td>4</td>\n",
       "      <td>False</td>\n",
       "    </tr>\n",
       "    <tr>\n",
       "      <th>4</th>\n",
       "      <td>5</td>\n",
       "      <td>True</td>\n",
       "    </tr>\n",
       "  </tbody>\n",
       "</table>\n",
       "</div>"
      ],
      "text/plain": [
       "   A      C\n",
       "0  1   True\n",
       "1  2  False\n",
       "2  3   True\n",
       "3  4  False\n",
       "4  5   True"
      ]
     },
     "execution_count": 2,
     "metadata": {},
     "output_type": "execute_result"
    }
   ],
   "source": [
    "import pandas as pd\n",
    "\n",
    "dataframe = pd.DataFrame({\n",
    "                        'A': [1, 2, 3, 4, 5],\n",
    "                        'B': ['a', 'b', 'c', 'd', 'e'],\n",
    "                        'C': [True, False, True, False, True],\n",
    "                        'D': [0.1, 0.2, 0.3, 0.4, 0.5],\n",
    "                        'E': ['foo', 'bar', 'baz', 'qux', 'quux']\n",
    "                        })\n",
    "\n",
    "df_without = dataframe.drop(['B', 'D', 'E'], axis=1)\n",
    "df_without"
   ]
  },
  {
   "cell_type": "markdown",
   "metadata": {},
   "source": [
    "### make a boolean field, based on another with nulls"
   ]
  },
  {
   "cell_type": "code",
   "execution_count": 8,
   "metadata": {},
   "outputs": [
    {
     "data": {
      "text/html": [
       "<div>\n",
       "<style scoped>\n",
       "    .dataframe tbody tr th:only-of-type {\n",
       "        vertical-align: middle;\n",
       "    }\n",
       "\n",
       "    .dataframe tbody tr th {\n",
       "        vertical-align: top;\n",
       "    }\n",
       "\n",
       "    .dataframe thead th {\n",
       "        text-align: right;\n",
       "    }\n",
       "</style>\n",
       "<table border=\"1\" class=\"dataframe\">\n",
       "  <thead>\n",
       "    <tr style=\"text-align: right;\">\n",
       "      <th></th>\n",
       "      <th>column_nulls</th>\n",
       "      <th>boolean based on nulls</th>\n",
       "      <th>column_empty_values</th>\n",
       "      <th>boolean based on empty</th>\n",
       "    </tr>\n",
       "  </thead>\n",
       "  <tbody>\n",
       "    <tr>\n",
       "      <th>0</th>\n",
       "      <td>a</td>\n",
       "      <td>True</td>\n",
       "      <td>a</td>\n",
       "      <td>True</td>\n",
       "    </tr>\n",
       "    <tr>\n",
       "      <th>1</th>\n",
       "      <td>None</td>\n",
       "      <td>False</td>\n",
       "      <td></td>\n",
       "      <td>False</td>\n",
       "    </tr>\n",
       "    <tr>\n",
       "      <th>2</th>\n",
       "      <td>c</td>\n",
       "      <td>True</td>\n",
       "      <td>c</td>\n",
       "      <td>True</td>\n",
       "    </tr>\n",
       "    <tr>\n",
       "      <th>3</th>\n",
       "      <td>None</td>\n",
       "      <td>False</td>\n",
       "      <td></td>\n",
       "      <td>False</td>\n",
       "    </tr>\n",
       "    <tr>\n",
       "      <th>4</th>\n",
       "      <td>None</td>\n",
       "      <td>False</td>\n",
       "      <td></td>\n",
       "      <td>False</td>\n",
       "    </tr>\n",
       "    <tr>\n",
       "      <th>5</th>\n",
       "      <td>f</td>\n",
       "      <td>True</td>\n",
       "      <td>f</td>\n",
       "      <td>True</td>\n",
       "    </tr>\n",
       "    <tr>\n",
       "      <th>6</th>\n",
       "      <td>g</td>\n",
       "      <td>True</td>\n",
       "      <td>g</td>\n",
       "      <td>True</td>\n",
       "    </tr>\n",
       "    <tr>\n",
       "      <th>7</th>\n",
       "      <td>h</td>\n",
       "      <td>True</td>\n",
       "      <td>h</td>\n",
       "      <td>True</td>\n",
       "    </tr>\n",
       "    <tr>\n",
       "      <th>8</th>\n",
       "      <td>None</td>\n",
       "      <td>False</td>\n",
       "      <td></td>\n",
       "      <td>False</td>\n",
       "    </tr>\n",
       "    <tr>\n",
       "      <th>9</th>\n",
       "      <td>j</td>\n",
       "      <td>True</td>\n",
       "      <td>j</td>\n",
       "      <td>True</td>\n",
       "    </tr>\n",
       "    <tr>\n",
       "      <th>10</th>\n",
       "      <td>None</td>\n",
       "      <td>False</td>\n",
       "      <td></td>\n",
       "      <td>False</td>\n",
       "    </tr>\n",
       "    <tr>\n",
       "      <th>11</th>\n",
       "      <td>k</td>\n",
       "      <td>True</td>\n",
       "      <td>k</td>\n",
       "      <td>True</td>\n",
       "    </tr>\n",
       "  </tbody>\n",
       "</table>\n",
       "</div>"
      ],
      "text/plain": [
       "   column_nulls  boolean based on nulls column_empty_values  \\\n",
       "0             a                    True                   a   \n",
       "1          None                   False                       \n",
       "2             c                    True                   c   \n",
       "3          None                   False                       \n",
       "4          None                   False                       \n",
       "5             f                    True                   f   \n",
       "6             g                    True                   g   \n",
       "7             h                    True                   h   \n",
       "8          None                   False                       \n",
       "9             j                    True                   j   \n",
       "10         None                   False                       \n",
       "11            k                    True                   k   \n",
       "\n",
       "    boolean based on empty  \n",
       "0                     True  \n",
       "1                    False  \n",
       "2                     True  \n",
       "3                    False  \n",
       "4                    False  \n",
       "5                     True  \n",
       "6                     True  \n",
       "7                     True  \n",
       "8                    False  \n",
       "9                     True  \n",
       "10                   False  \n",
       "11                    True  "
      ]
     },
     "execution_count": 8,
     "metadata": {},
     "output_type": "execute_result"
    }
   ],
   "source": [
    "import pandas as pd\n",
    "\n",
    "dataframe = pd.DataFrame({\n",
    "                        'column_nulls': ['a', None, 'c', None, None, 'f', 'g', 'h', None, 'j', None,'k'],\n",
    "                        'column_empty_values': ['a', '', 'c', '', '', 'f', 'g', 'h', '', 'j', '','k']\n",
    "                        })\n",
    "##\n",
    "dataframe['boolean based on nulls'] = dataframe['column_nulls'].apply(lambda x: False if pd.isnull(x) else True)\n",
    "\n",
    "## \n",
    "dataframe['boolean based on empty'] = dataframe['column_empty_values'].apply(lambda x: False if len(x.strip()) == 0 else True)\n",
    "\n",
    "dataframe[['column_nulls','boolean based on nulls','column_empty_values','boolean based on empty']]"
   ]
  },
  {
   "cell_type": "markdown",
   "metadata": {},
   "source": [
    "### Adding a timestamp (current time) to a dataframe"
   ]
  },
  {
   "cell_type": "code",
   "execution_count": 11,
   "metadata": {},
   "outputs": [
    {
     "data": {
      "text/html": [
       "<div>\n",
       "<style scoped>\n",
       "    .dataframe tbody tr th:only-of-type {\n",
       "        vertical-align: middle;\n",
       "    }\n",
       "\n",
       "    .dataframe tbody tr th {\n",
       "        vertical-align: top;\n",
       "    }\n",
       "\n",
       "    .dataframe thead th {\n",
       "        text-align: right;\n",
       "    }\n",
       "</style>\n",
       "<table border=\"1\" class=\"dataframe\">\n",
       "  <thead>\n",
       "    <tr style=\"text-align: right;\">\n",
       "      <th></th>\n",
       "      <th>column_nulls</th>\n",
       "      <th>column_empty_values</th>\n",
       "      <th>extract_time</th>\n",
       "    </tr>\n",
       "  </thead>\n",
       "  <tbody>\n",
       "    <tr>\n",
       "      <th>0</th>\n",
       "      <td>a</td>\n",
       "      <td>a</td>\n",
       "      <td>2024-05-10 14:27:00</td>\n",
       "    </tr>\n",
       "    <tr>\n",
       "      <th>1</th>\n",
       "      <td>None</td>\n",
       "      <td></td>\n",
       "      <td>2024-05-10 14:27:00</td>\n",
       "    </tr>\n",
       "    <tr>\n",
       "      <th>2</th>\n",
       "      <td>c</td>\n",
       "      <td>c</td>\n",
       "      <td>2024-05-10 14:27:00</td>\n",
       "    </tr>\n",
       "    <tr>\n",
       "      <th>3</th>\n",
       "      <td>None</td>\n",
       "      <td></td>\n",
       "      <td>2024-05-10 14:27:00</td>\n",
       "    </tr>\n",
       "    <tr>\n",
       "      <th>4</th>\n",
       "      <td>None</td>\n",
       "      <td></td>\n",
       "      <td>2024-05-10 14:27:00</td>\n",
       "    </tr>\n",
       "  </tbody>\n",
       "</table>\n",
       "</div>"
      ],
      "text/plain": [
       "  column_nulls column_empty_values        extract_time\n",
       "0            a                   a 2024-05-10 14:27:00\n",
       "1         None                     2024-05-10 14:27:00\n",
       "2            c                   c 2024-05-10 14:27:00\n",
       "3         None                     2024-05-10 14:27:00\n",
       "4         None                     2024-05-10 14:27:00"
      ]
     },
     "execution_count": 11,
     "metadata": {},
     "output_type": "execute_result"
    }
   ],
   "source": [
    "import pandas as pd\n",
    "import time \n",
    "\n",
    "dataframe = pd.DataFrame({\n",
    "                        'column_nulls': ['a', None, 'c', None, None],\n",
    "                        'column_empty_values': ['a', '', 'c', '', '']\n",
    "                        })\n",
    "\n",
    "\n",
    "dataframe['current_time'] = pd.to_datetime(time.strftime(\"%Y-%m-%d %H:%M:%S\", time.localtime()), errors='coerce')\n",
    "dataframe"
   ]
  },
  {
   "cell_type": "markdown",
   "metadata": {},
   "source": [
    "### Making a timestamp out of a object type"
   ]
  },
  {
   "cell_type": "code",
   "execution_count": 15,
   "metadata": {},
   "outputs": [
    {
     "name": "stdout",
     "output_type": "stream",
     "text": [
      "                    created               updated                      deleted\n",
      "0 2024-04-19 12:36:54+00:00   2024-04-19 15:20:10    2024-04-19 17:20:10+02:00\n",
      "1 2024-04-20 08:45:30+00:00   2024-04-21 10:30:45    2024-04-21 12:30:45+02:00\n"
     ]
    }
   ],
   "source": [
    "import pandas as pd\n",
    "\n",
    "data = {\n",
    "    'created': ['2024-04-19T12:36:54Z', '2024-04-20T08:45:30Z'],\n",
    "    ' ': ['',''],\n",
    "    'updated': ['2024-04-19T15:20:10Z', '2024-04-21T10:30:45Z'],\n",
    "    '  ': ['',''],\n",
    "    'deleted': ['2024-04-19T15:20:10Z', '2024-04-21T10:30:45Z']\n",
    "}\n",
    "\n",
    "df = pd.DataFrame(data)\n",
    "\n",
    "# Convert timestamp columns to datetime\n",
    "df['created'] = pd.to_datetime(df['created'])\n",
    "# Using .dt.tz_localize(None) to delete the Timezone \n",
    "df['updated'] = pd.to_datetime(df['updated']).dt.tz_localize(None)\n",
    "# We use .dt.tz_convert('CET') to change the time zone\n",
    "df['deleted'] = pd.to_datetime(df['deleted']).dt.tz_convert('CET')\n",
    "# If the field doesn't have a predetermined timezone first we need to localize it with .dt.tz_localize(None)\n",
    "#df['updated'] = pd.to_datetime(df['updated']).dt.tz_localize('UTC').dt.tz_convert('CET')\n",
    "\n",
    "\n",
    "\n",
    "\n",
    "# Print DataFrame\n",
    "print(df)"
   ]
  },
  {
   "cell_type": "markdown",
   "metadata": {},
   "source": [
    "### Grouping and counting data in dataframes"
   ]
  },
  {
   "cell_type": "code",
   "execution_count": 2,
   "metadata": {},
   "outputs": [
    {
     "name": "stdout",
     "output_type": "stream",
     "text": [
      "      name  id\n",
      "0    Alice   3\n",
      "1      Bob   2\n",
      "2  Charlie   1\n"
     ]
    }
   ],
   "source": [
    "import pandas as pd\n",
    "\n",
    "# Sample DataFrame\n",
    "data = {\n",
    "    'name': ['Alice', 'Bob', 'Alice', 'Charlie', 'Bob', 'Alice'],\n",
    "    'id': [1, 2, 3, 4, 5, 6]\n",
    "}\n",
    "\n",
    "df = pd.DataFrame(data)\n",
    "\n",
    "# Group by 'name' and aggregate 'calc_id' by counting its occurrences\n",
    "result_df = df.groupby('name').agg({'id': 'count'}).reset_index()\n",
    "\n",
    "# Display the result DataFrame\n",
    "print(result_df)\n"
   ]
  }
 ],
 "metadata": {
  "kernelspec": {
   "display_name": "Python 3",
   "language": "python",
   "name": "python3"
  },
  "language_info": {
   "codemirror_mode": {
    "name": "ipython",
    "version": 3
   },
   "file_extension": ".py",
   "mimetype": "text/x-python",
   "name": "python",
   "nbconvert_exporter": "python",
   "pygments_lexer": "ipython3",
   "version": "3.11.8"
  },
  "orig_nbformat": 4
 },
 "nbformat": 4,
 "nbformat_minor": 2
}
